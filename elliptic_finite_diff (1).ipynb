{
  "cells": [
    {
      "cell_type": "code",
      "execution_count": null,
      "metadata": {
        "colab": {
          "base_uri": "https://localhost:8080/",
          "height": 502
        },
        "id": "7SVsli1sNQFO",
        "outputId": "c2de417b-db21-4497-b8d9-e8f417f3e776"
      },
      "outputs": [
        {
          "output_type": "stream",
          "name": "stderr",
          "text": [
            "/usr/local/lib/python3.10/dist-packages/scipy/sparse/_index.py:103: SparseEfficiencyWarning: Changing the sparsity structure of a csr_matrix is expensive. lil_matrix is more efficient.\n",
            "  self._set_intXint(row, col, x.flat[0])\n"
          ]
        },
        {
          "output_type": "execute_result",
          "data": {
            "text/plain": [
              "<function matplotlib.pyplot.show(close=None, block=None)>"
            ]
          },
          "metadata": {},
          "execution_count": 1
        },
        {
          "output_type": "display_data",
          "data": {
            "text/plain": [
              "<Figure size 640x480 with 1 Axes>"
            ],
            "image/png": "[encoded data removed]"
          },
          "metadata": {}
        }
      ],
      "source": [
        "# code des differences finies\n",
        "\n",
        "\n",
        "import numpy as np\n",
        "import scipy as scp\n",
        "import tensorflow as tf\n",
        "from matplotlib import pyplot as plt\n",
        "\n",
        "n=1e3\n",
        "def f(x,n):\n",
        "  # suites lorentziennes\n",
        "    # a=n/np.pi\n",
        "    # b=1+((x-1/2)**2)*(n**2)\n",
        "    # return a/b\n",
        "  # suites gaussiennes\n",
        "    # a=np.sqrt(np.pi)\n",
        "    # return (n/a)*tf.exp(-(n**2)*(x-1/2)**2)\n",
        "    a=n/np.pi\n",
        "    b=1+((x-1/2)**2)*(n**2)\n",
        "    # return a/b\n",
        "    return 1 + x * tf.sin(np.pi * x)\n",
        "\n",
        "eps=1e-3\n",
        "def source(x):\n",
        "    a=1/(eps*np.pi)\n",
        "    b=1+((x-1/4)**2)*(eps**-2)\n",
        "    return a/b\n",
        "\n",
        "\n",
        "\n",
        "def j(u):\n",
        "    return u**4\n",
        "\n",
        "def dj(u):\n",
        "    return 4*u**3\n",
        "\n",
        "kmax=8; a=1.0; b=0;\n",
        "\n",
        "N=1000\n",
        "x=np.linspace(0, 1, N)\n",
        "x = x[:len(x)-1]\n",
        "h=1/(N-1)\n",
        "F=f(x,n)\n",
        "e = np.ones([N-1,1])\n",
        "A = scp.sparse.spdiags(np.transpose(np.block([e, -2*e, e])), [-1, 0, 1],N-1,N-1)\n",
        "A=A.tocsr()\n",
        "A[N-2,0] = 1\n",
        "A[0,N-2] = 1\n",
        "A = A/(h**2)\n",
        "us = np.linalg.solve(np.eye(N-1)-A, F)\n",
        "us[N-2]=us[0]\n",
        "x[N-2]=1.0\n",
        "u=us;\n",
        "x = x[:N-1]\n",
        "u = u[:N-1]\n",
        "sizeA=np.shape(A)\n",
        "sizeu=len(u)\n",
        "err=np.zeros(kmax)\n",
        "for k in range(kmax):\n",
        "  D=u - A*u +j(u)-F;\n",
        "  v=dj(u);\n",
        "  B=np.diag(v);\n",
        "  u = u+ np.linalg.solve(np.eye(N-1)-A+B, -D)\n",
        "  err[k]=h*np.linalg.norm(D,2);\n",
        "\n",
        "u[N-2]=u[0];\n",
        "x[N-2]=1.0;\n",
        "plt.plot(x,u,'r')\n",
        "plt.show\n"
      ]
    },
    {
      "cell_type": "code",
      "source": [
        "print(u[0])"
      ],
      "metadata": {
        "colab": {
          "base_uri": "https://localhost:8080/"
        },
        "id": "pkR3hCjQodQo",
        "outputId": "aa5f846b-a0d8-4a35-de59-3d4f9dd56d0c"
      },
      "execution_count": null,
      "outputs": [
        {
          "output_type": "stream",
          "name": "stdout",
          "text": [
            "0.7121497544808818\n"
          ]
        }
      ]
    },
    {
      "cell_type": "code",
      "source": [
        "print(u[-1])"
      ],
      "metadata": {
        "colab": {
          "base_uri": "https://localhost:8080/"
        },
        "id": "Q_dL-8OcYsCT",
        "outputId": "f46f7677-c346-492f-bde8-09c489dd2a25"
      },
      "execution_count": null,
      "outputs": [
        {
          "output_type": "stream",
          "name": "stdout",
          "text": [
            "0.7121497544808818\n"
          ]
        }
      ]
    }
  ],
  "metadata": {
    "colab": {
      "provenance": []
    },
    "kernelspec": {
      "display_name": "Python 3",
      "name": "python3"
    },
    "language_info": {
      "name": "python"
    }
  },
  "nbformat": 4,
  "nbformat_minor": 0
}